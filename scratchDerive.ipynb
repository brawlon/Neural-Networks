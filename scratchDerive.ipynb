{
 "cells": [
  {
   "cell_type": "code",
   "execution_count": 113,
   "metadata": {
    "collapsed": true
   },
   "outputs": [],
   "source": [
    "#neural network from scratch\n",
    "\n",
    "from random import randrange\n",
    "from random import random\n",
    "from csv import reader\n",
    "from math import exp"
   ]
  },
  {
   "cell_type": "code",
   "execution_count": 117,
   "outputs": [],
   "source": [
    "# Initialising Network\n",
    "\n",
    "def initialize_network(n_inputs, n_outputs, n_hidden):\n",
    "    network = [[i for i in range(n_inputs)]]\n",
    "    for i in range(len(n_hidden)):\n",
    "        hidden=[{'weights' : [random() for j in range(len(network[i])+1)]} for k in range(n_hidden[i])]\n",
    "        network.append(hidden)\n",
    "    output = [{'weights' : [random() for j in range(len(network[-1])+1)]} for k in range(n_outputs)]\n",
    "    network.append(output)\n",
    "    network.pop(0)\n",
    "    return network\n",
    "\n",
    "def print_network(network):\n",
    "    i=0\n",
    "    for layer in network:\n",
    "        print(i)\n",
    "        i+=1\n",
    "        for neuron in layer:\n",
    "            print(neuron)"
   ],
   "metadata": {
    "collapsed": false
   }
  },
  {
   "cell_type": "code",
   "execution_count": 118,
   "outputs": [],
   "source": [
    "# Forward Propagate\n",
    "#1. Neuron Activation\n",
    "#2. Neuron Transfer\n",
    "#3. Forward Propagate\n",
    "\n",
    "def forward_propagate(network,input_row):\n",
    "    input=input_row\n",
    "    for i in range(len(network)):\n",
    "        new_input=[]\n",
    "        for neuron in network[i]:\n",
    "            neuron['output'] = neuron_activation(input, neuron['weights'])\n",
    "            new_input.append(neuron['output'])\n",
    "        input=new_input\n",
    "    return input\n",
    "\n",
    "def transfer(activation):\n",
    "    return 1.0 / (1.0 + exp(-activation))\n",
    "\n",
    "def neuron_activation(input, weights):\n",
    "    sum=weights[-1]\n",
    "    for i in range(len(weights)-1):\n",
    "        sum+=weights[i]*input[i]\n",
    "    return transfer(sum)\n"
   ],
   "metadata": {
    "collapsed": false
   }
  },
  {
   "cell_type": "code",
   "execution_count": 119,
   "outputs": [],
   "source": [
    "# Back Propagation\n",
    "#1. Transfer derivative\n",
    "#2. Error Backpropagation\n",
    "\n",
    "def transfer_derivative(output):\n",
    "    #assuming transfer function is sigmoid\n",
    "    return output * (1.0 - output)\n",
    "\n",
    "\n",
    "def back_propagate(network, expected):\n",
    "\n",
    "    for i in reversed(range(len(network))): #layer of network\n",
    "        if i == len(network)-1 :\n",
    "            for j in range (len(network[i])):  #neuron of layer\n",
    "                neuron= network[i][j]\n",
    "                neuron['error']=neuron['output']-expected[j]\n",
    "        else:\n",
    "            for j in range(len(network[i])): #neuron of layer\n",
    "                neuron= network[i][j]\n",
    "                error = 0\n",
    "                for next_neuron in network[i+1]: #neuron of next layer\n",
    "                    error+= next_neuron['delta'] * next_neuron['weights'][j]\n",
    "                neuron['error'] = error\n",
    "\n",
    "        for neuron in network[i]:\n",
    "            neuron['delta'] = neuron['error'] * transfer_derivative(neuron['output'])\n"
   ],
   "metadata": {
    "collapsed": false
   }
  },
  {
   "cell_type": "code",
   "execution_count": 128,
   "outputs": [],
   "source": [
    "# Training network\n",
    "#1. Update weights\n",
    "#2. Train Network\n",
    "\n",
    "def update_weights(network, inputs, learning_rate):\n",
    "    previous = inputs[:-1]\n",
    "    for i in range(len(network)):\n",
    "        if i!= 0:\n",
    "            previous = [neuron['output'] for neuron in network[i-1]]\n",
    "        for neuron in network[i]:\n",
    "            for j in range(len(previous)):\n",
    "                neuron['weights'][j] -= learning_rate * neuron['delta'] * previous[j]\n",
    "            neuron['weights'][-1] -= learning_rate* neuron['delta']\n",
    "        previous= network[i]\n",
    "\n",
    "\n",
    "def train_network(network, train, n_epochs, l_rate):\n",
    "    for epoch in range(n_epochs):\n",
    "        for row in train:\n",
    "            outputs = forward_propagate(network, row)\n",
    "            expected = [0 for i in range(len(network[-1]))]\n",
    "            expected [row[-1]] = 1\n",
    "            back_propagate(network, expected)\n",
    "            update_weights(network, row, l_rate)\n",
    "\n"
   ],
   "metadata": {
    "collapsed": false
   }
  },
  {
   "cell_type": "code",
   "execution_count": 140,
   "outputs": [],
   "source": [
    "dataset = [[2.7810836,2.550537003,0],\n",
    "[1.465489372,2.362125076,0], [3.396561688,4.400293529,0], [1.38807019,1.850220317,0], [3.06407232,3.005305973,0], [7.627531214,2.759262235,1], [5.332441248,2.088626775,1], [6.922596716,1.77106367,1], [8.675418651,-0.242068655,1], [7.673756466,3.508563011,1]]\n",
    "\n",
    "n_inputs = 2\n",
    "n_outputs = 2\n",
    "network = initialize_network(n_inputs, n_outputs, [2, 2])\n",
    "train_network(network, dataset,20, 0.5)\n"
   ],
   "metadata": {
    "collapsed": false
   }
  },
  {
   "cell_type": "code",
   "execution_count": 123,
   "outputs": [],
   "source": [
    "def predict(network, row):\n",
    "    outputs = forward_propagate(network, row[:-1])\n",
    "    return outputs.index(max(outputs))"
   ],
   "metadata": {
    "collapsed": false
   }
  },
  {
   "cell_type": "code",
   "execution_count": 142,
   "outputs": [
    {
     "name": "stdout",
     "output_type": "stream",
     "text": [
      "0\n",
      "{'weights': [0.1991942157934945, 0.1869388265371963, 0.005216829762140995]}\n",
      "{'weights': [0.32091552872440143, 0.07125919973086914, 0.6128149523130053]}\n",
      "1\n",
      "{'weights': [0.8455446013622306, 0.8626939858504831, 0.09876073780394401]}\n",
      "{'weights': [0.6475550652325738, 0.4777374516550541, 0.5320823703125206]}\n",
      "0\n",
      "{'weights': [-1.092630519281423, 1.349879979205579, 0.36584177848927596], 'output': 0.04608946986300928, 'error': 0.15917038490925814, 'delta': 0.0069979626821217444}\n",
      "{'weights': [-1.09958116612838, 1.1590468173138118, 0.9216782687239142], 'output': 0.03740813972143541, 'error': 0.15533264203470346, 'delta': 0.005593337505410051}\n",
      "1\n",
      "{'weights': [1.8687934929724948, 1.5598310421401733, -1.317630999130397], 'output': 0.24028082824401997, 'error': 0.24028082824401997, 'delta': 0.043862292496476295}\n",
      "{'weights': [-1.2840376424395818, -1.4462727606490553, 1.034147958166741], 'output': 0.709044317929257, 'error': -0.29095568207074296, 'delta': -0.060024294874399704}\n",
      "Expected=0, Got=0\n",
      "Expected=0, Got=0\n",
      "Expected=0, Got=0\n",
      "Expected=0, Got=0\n",
      "Expected=0, Got=0\n",
      "Expected=1, Got=1\n",
      "Expected=1, Got=1\n",
      "Expected=1, Got=1\n",
      "Expected=1, Got=1\n",
      "Expected=1, Got=1\n"
     ]
    }
   ],
   "source": [
    "\n",
    "n_inputs = 2\n",
    "n_outputs = 2\n",
    "network = initialize_network(n_inputs, n_outputs, [2] )\n",
    "print_network(network)\n",
    "\n",
    "train_network(network, dataset, 20, 0.5)\n",
    "print_network(network)\n",
    "\n",
    "for row in dataset:\n",
    "    print('Expected=%d, Got=%d' % (row[-1], predict(network, row)))"
   ],
   "metadata": {
    "collapsed": false
   }
  },
  {
   "cell_type": "code",
   "execution_count": 139,
   "outputs": [
    {
     "name": "stdout",
     "output_type": "stream",
     "text": [
      "Scores: [97.61904761904762, 95.23809523809523, 95.23809523809523, 90.47619047619048, 90.47619047619048]\n",
      "Mean Accuracy: 93.810%\n"
     ]
    }
   ],
   "source": [
    "# Load a CSV file\n",
    "def load_csv(filename):\n",
    "\tdataset = list()\n",
    "\twith open(filename, 'r') as file:\n",
    "\t\tcsv_reader = reader(file)\n",
    "\t\tfor row in csv_reader:\n",
    "\t\t\tif not row:\n",
    "\t\t\t\tcontinue\n",
    "\t\t\tdataset.append(row)\n",
    "\treturn dataset\n",
    "\n",
    "# Convert string column to float\n",
    "def str_column_to_float(dataset, column):\n",
    "\tfor row in dataset:\n",
    "\t\trow[column] = float(row[column].strip())\n",
    "\n",
    "# Convert string column to integer\n",
    "def str_column_to_int(dataset, column):\n",
    "\tclass_values = [row[column] for row in dataset]\n",
    "\tunique = set(class_values)\n",
    "\tlookup = dict()\n",
    "\tfor i, value in enumerate(unique):\n",
    "\t\tlookup[value] = i\n",
    "\tfor row in dataset:\n",
    "\t\trow[column] = lookup[row[column]]\n",
    "\treturn lookup\n",
    "\n",
    "# Find the min and max values for each column\n",
    "def dataset_minmax(dataset):\n",
    "\tminmax = list()\n",
    "\tstats = [[min(column), max(column)] for column in zip(*dataset)]\n",
    "\treturn stats\n",
    "\n",
    "# Rescale dataset columns to the range 0-1\n",
    "def normalize_dataset(dataset, minmax):\n",
    "\tfor row in dataset:\n",
    "\t\tfor i in range(len(row)-1):\n",
    "\t\t\trow[i] = (row[i] - minmax[i][0]) / (minmax[i][1] - minmax[i][0])\n",
    "\n",
    "# Split a dataset into k folds\n",
    "def cross_validation_split(dataset, n_folds):\n",
    "\tdataset_split = list()\n",
    "\tdataset_copy = list(dataset)\n",
    "\tfold_size = int(len(dataset) / n_folds)\n",
    "\tfor i in range(n_folds):\n",
    "\t\tfold = list()\n",
    "\t\twhile len(fold) < fold_size:\n",
    "\t\t\tindex = randrange(len(dataset_copy))\n",
    "\t\t\tfold.append(dataset_copy.pop(index))\n",
    "\t\tdataset_split.append(fold)\n",
    "\treturn dataset_split\n",
    "\n",
    "# Calculate accuracy percentage\n",
    "def accuracy_metric(actual, predicted):\n",
    "\tcorrect = 0\n",
    "\tfor i in range(len(actual)):\n",
    "\t\tif actual[i] == predicted[i]:\n",
    "\t\t\tcorrect += 1\n",
    "\treturn correct / float(len(actual)) * 100.0\n",
    "\n",
    "# Evaluate an algorithm using a cross validation split\n",
    "def evaluate_algorithm(dataset, algorithm, n_folds, *args):\n",
    "\tfolds = cross_validation_split(dataset, n_folds)\n",
    "\tscores = list()\n",
    "\tfor fold in folds:\n",
    "\t\ttrain_set = list(folds)\n",
    "\t\ttrain_set.remove(fold)\n",
    "\t\ttrain_set = sum(train_set, [])\n",
    "\t\ttest_set = list()\n",
    "\t\tfor row in fold:\n",
    "\t\t\trow_copy = list(row)\n",
    "\t\t\ttest_set.append(row_copy)\n",
    "\t\t\trow_copy[-1] = None\n",
    "\t\tpredicted = algorithm(train_set, test_set, *args)\n",
    "\t\tactual = [row[-1] for row in fold]\n",
    "\t\taccuracy = accuracy_metric(actual, predicted)\n",
    "\t\tscores.append(accuracy)\n",
    "\treturn scores\n",
    "\n",
    "\n",
    "def back_propagation(train, test, l_rate, n_epoch, n_hidden):\n",
    "\tn_inputs = len(train[0]) - 1\n",
    "\tn_outputs = len(set([row[-1] for row in train]))\n",
    "\tnetwork = initialize_network(n_inputs, n_outputs , n_hidden)\n",
    "\ttrain_network(network, train,n_epoch, l_rate )\n",
    "\tpredictions = list()\n",
    "\tfor row in test:\n",
    "\t\tprediction = predict(network, row)\n",
    "\t\tpredictions.append(prediction)\n",
    "\treturn(predictions)\n",
    "\n",
    "\n",
    "filename = 'wheat-seeds.csv'\n",
    "dataset = load_csv(filename)\n",
    "for i in range(len(dataset[0])-1):\n",
    "\tstr_column_to_float(dataset, i)\n",
    "# convert class column to integers\n",
    "str_column_to_int(dataset, len(dataset[0])-1)\n",
    "# normalize input variables\n",
    "minmax = dataset_minmax(dataset)\n",
    "normalize_dataset(dataset, minmax)\n",
    "# evaluate algorithm\n",
    "n_folds = 5\n",
    "l_rate = 0.5\n",
    "n_epoch = 1000\n",
    "n_hidden = [5, 4, 2]\n",
    "scores = evaluate_algorithm(dataset, back_propagation, n_folds, l_rate, n_epoch, n_hidden)\n",
    "print('Scores: %s' % scores)\n",
    "print('Mean Accuracy: %.3f%%' % (sum(scores)/float(len(scores))))"
   ],
   "metadata": {
    "collapsed": false
   }
  }
 ],
 "metadata": {
  "kernelspec": {
   "display_name": "Python 3",
   "language": "python",
   "name": "python3"
  },
  "language_info": {
   "codemirror_mode": {
    "name": "ipython",
    "version": 2
   },
   "file_extension": ".py",
   "mimetype": "text/x-python",
   "name": "python",
   "nbconvert_exporter": "python",
   "pygments_lexer": "ipython2",
   "version": "2.7.6"
  }
 },
 "nbformat": 4,
 "nbformat_minor": 0
}
